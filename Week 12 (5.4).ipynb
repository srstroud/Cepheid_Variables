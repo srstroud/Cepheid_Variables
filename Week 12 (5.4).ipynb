{
 "cells": [
  {
   "cell_type": "markdown",
   "metadata": {},
   "source": [
    "# Cepheid Variable Analysis\n",
    "### Sean Stroud"
   ]
  },
  {
   "cell_type": "code",
   "execution_count": 3,
   "metadata": {},
   "outputs": [
    {
     "name": "stdout",
     "output_type": "stream",
     "text": [
      "Created TAP+ (v1.2.1) - Connection:\n",
      "\tHost: gea.esac.esa.int\n",
      "\tUse HTTPS: True\n",
      "\tPort: 443\n",
      "\tSSL Port: 443\n",
      "Created TAP+ (v1.2.1) - Connection:\n",
      "\tHost: geadata.esac.esa.int\n",
      "\tUse HTTPS: True\n",
      "\tPort: 443\n",
      "\tSSL Port: 443\n"
     ]
    }
   ],
   "source": [
    "#Python package imports\n",
    "import glob\n",
    "import numpy as np\n",
    "import matplotlib.pyplot as plt\n",
    "from scipy.stats import iqr\n",
    "from scipy.optimize import curve_fit\n",
    "from astroquery.gaia import Gaia"
   ]
  },
  {
   "cell_type": "code",
   "execution_count": 9,
   "metadata": {},
   "outputs": [],
   "source": [
    "def LightCurver(ceph_list, lc_file):\n",
    "    \"\"\"\n",
    "    \n",
    "    Inputs: \n",
    "    'ceph_list', a list Gaia source IDs for the desired Cepheids to analyze (String).\n",
    "    'lc_file', a downloaded text file of Gaia DR2 light curve data (String).\n",
    "    The pipeline will search if a given Cepheid in 'ceph_list' exists in 'lc_file'. \n",
    "    \n",
    "    Outputs: \n",
    "    Light curve figure in terms of flux.\n",
    "    Light curve figure in terms of magnitude.\n",
    "    \"\"\"\n",
    "    \n",
    "    ###Retrieving list of desired Cepheids to analyze\n",
    "    ceph_sources = np.loadtxt(ceph_list, dtype=np.int64)\n",
    "    \n",
    "    ###Retrieving properties of cataloged Cepheids from the public Gaia table \"vari_cepheid\".\n",
    "    job = Gaia.launch_job_async(\"select top 10000 * from gaiadr2.vari_cepheid order by source_id\")\n",
    "    r = job.get_results()\n",
    "    \n",
    "    ###Retreving and sorting light curve properties from downloaded Gaia files\n",
    "    lcs = np.loadtxt(lc_file,skiprows=1,delimiter=',',usecols=(3,4,5,6,7))\n",
    "    source_id = np.loadtxt(lc_file,skiprows=1,delimiter=',',usecols=0, dtype=np.int64)\n",
    "    band = np.loadtxt(lc_file,skiprows=1,delimiter=',',usecols=2, dtype=np.str)\n",
    "    time = lcs[:,0]\n",
    "    mag = lcs[:,1]\n",
    "    flux = lcs[:,2]\n",
    "    flux_error = lcs[:,3] \n",
    "\n",
    "    ###Important constants\n",
    "    zp = 25.6883657251 #Gaia DR2 zero point\n",
    "    \n",
    "    for i in range(0, len(ceph_sources)):\n",
    "        ###If we wish to only look at one particular Cepheid, we may uncomment the following two lines.\n",
    "        #if ceph_sources[i] != 3046774762417915136:\n",
    "            #continue\n",
    "        per_table = r['pf'][np.argwhere(r['source_id']==ceph_sources[i])]\n",
    "        per_table = per_table[0][0]\n",
    "        if str(per_table) == '--':\n",
    "            continue\n",
    "        mag_table = r['int_average_g'][np.argwhere(r['source_id']==ceph_sources[i])]\n",
    "        mag_table = mag_table[0][0]\n",
    "        ind = np.argwhere(source_id==ceph_sources[i])\n",
    "        if len(ind) == 0:\n",
    "            continue\n",
    "        \n",
    "        ###Properties of each source\n",
    "        mag = mag[ind[0][0]:ind[-1][0]]\n",
    "        time = time[ind[0][0]:ind[-1][0]]\n",
    "        flux = flux[ind[0][0]:ind[-1][0]]\n",
    "        band = band[ind[0][0]:ind[-1][0]]\n",
    "        flux_error = flux_error[[0][0]:ind[-1][0]]\n",
    "        \n",
    "        ###Properties of each source seperated by band\n",
    "        G_ind = np.argwhere(band=='G')\n",
    "        time_G = time[G_ind[0][0]:G_ind[-1][0]]\n",
    "        mag_G = mag[G_ind[0][0]:G_ind[-1][0]]\n",
    "        flux_G = flux[G_ind[0][0]:G_ind[-1][0]]\n",
    "        flux_error_G = flux_error[G_ind[0][0]:G_ind[-1][0]]\n",
    "        mag_error_G = (2.5/np.log(10))*flux_error_G/flux_G\n",
    "        phase = time_G % per_table\n",
    "        \n",
    "        ###Create function we want to Fourier fit\n",
    "        def SevDegFit(x,per,amp1,amp2,amp3,amp4,amp5,amp6,amp7,amp8,amp9,amp10,amp11,amp12,amp13,amp14,C):\n",
    "            per = per_table\n",
    "            deg1 = (np.sin(2*np.pi*x/per)*amp1) + (np.cos(2*np.pi*x/per)*amp2)\n",
    "            deg2 = (np.sin(2*np.pi*2*x/per)*amp3) + (np.cos(2*np.pi*2*x/per)* amp4)\n",
    "            deg3 = (np.sin(2*np.pi*3*x/per)*amp5) + (np.cos(2*np.pi*3*x/per)* amp6)\n",
    "            deg4 = (np.sin(2*np.pi*4*x/per)*amp7) + (np.cos(2*np.pi*4*x/per)* amp8)\n",
    "            deg5 = (np.sin(2*np.pi*5*x/per)*amp9) + (np.cos(2*np.pi*5*x/per)* amp10)\n",
    "            deg6 = (np.sin(2*np.pi*6*x/per)*amp11) + (np.cos(2*np.pi*6*x/per)* amp12)\n",
    "            deg7 = (np.sin(2*np.pi*7*x/per)*amp13) + (np.cos(2*np.pi*7*x/per)* amp14)\n",
    "            return C + deg1 + deg2 + deg3 + deg4 + deg5 + deg6 + deg7\n",
    "        \n",
    "        ###Generation of \"first guesses\" for our Fourier fit function for flux.\n",
    "        guess_freq = 1\n",
    "        guess_amp = 3*np.std(flux_G)/(2**0.5)\n",
    "        guess_C = np.mean(flux_G)\n",
    "        p0=[guess_freq,guess_amp,guess_amp,guess_amp,guess_amp,guess_amp,guess_amp,guess_amp,guess_amp,guess_amp,guess_amp,guess_amp,guess_amp,guess_amp,guess_amp,guess_C]\n",
    "        \n",
    "        ###Repeat for magnitude.\n",
    "        guess_freq2 = 1\n",
    "        guess_amp2 = 3*np.std(mag_G)/(2**0.5)\n",
    "        guess_C2 = np.mean(mag_G)\n",
    "        p02=[guess_freq2,guess_amp2,guess_amp2,guess_amp2,guess_amp2,guess_amp2,guess_amp2,guess_amp2,guess_amp2,guess_amp2,guess_amp2,guess_amp2,guess_amp2,guess_amp2,guess_amp2,guess_C2]\n",
    "        \n",
    "        ###Now do the fits\n",
    "        fit_flux = curve_fit(SevDegFit, phase, flux_G, p0=p0, sigma=flux_error_G, absolute_sigma=True)\n",
    "        fit_mag = curve_fit(SevDegFit, phase, mag_G, p0=p02, sigma=mag_error_G, absolute_sigma=True)\n",
    "        x = np.linspace(min(phase),max(phase),num=2**16)\n",
    "        fitcurve_flux = SevDegFit(x, *fit_flux[0])\n",
    "        fitcurve_mag = SevDegFit(x, *fit_mag[0])\n",
    "        \n",
    "        ###Weighted mean of Gaia magnitude points and fitted magnitude curve.\n",
    "        distances = []\n",
    "        weights = []\n",
    "        for j in range(0, len(mag_G)):\n",
    "            phase_value = phase[j]\n",
    "            fit_ind = x[np.abs(x-phase_value).argmin()] #Finds nearest value in numpy array\n",
    "            fit_ind = int(fit_ind)\n",
    "            distance = mag_G[j] - fitcurve_mag[fit_ind]\n",
    "            weight = 1/((np.abs(distance)+0.002)**2)\n",
    "            distances.append(distance)\n",
    "            weights.append(weight)\n",
    "        wf = np.average(flux_G, weights=weights)\n",
    "        wf_mag = zp - 2.5*np.log10(wf)\n",
    "        \n",
    "        #Plotting flux\n",
    "        plt.plot(x, fitcurve_flux, c='r')\n",
    "        plt.errorbar(phase, flux_G, yerr=flux_error_G, ls='None', ecolor='k', capsize=2)\n",
    "        plt.scatter(phase, flux_G, c='g')\n",
    "        plt.title('Light Curve for ' + str(ceph_sources[i]) +', Per = '+ str('%.3f'%per_table))\n",
    "        plt.xlabel('Phase')\n",
    "        plt.ylabel('G Band Flux')\n",
    "        #plt.savefig('LCfit_'+str(ceph_sources[i])+'_deg7_flux_sigma.png', bbox_inches='tight', dpi=300)\n",
    "        plt.show()\n",
    "        \n",
    "        #Plotting mag\n",
    "        plt.errorbar(phase, mag_G, yerr=mag_error_G, ls='None', ecolor='green', capsize=2)\n",
    "        plt.scatter(phase, mag_G, c='b')\n",
    "        plt.plot(x, fitcurve_mag, c='r')\n",
    "        plt.title('Light Curve for ' + str(ceph_sources[i]) +', Per = '+ str('%.3f'%per_table))\n",
    "        plt.xlabel('Phase')\n",
    "        plt.ylabel('Vega Magnitude')\n",
    "        plt.gca().invert_yaxis()\n",
    "        #plt.savefig('LCfit_'+str(ceph_sources[i])+'_deg7_mag.png', bbox_inches='tight', dpi=300)\n",
    "        plt.show()\n",
    "        \n",
    "        #Stuff to print\n",
    "        C_mag = fit_mag[0][-1]\n",
    "        C_flux = fit_flux[0][-1]\n",
    "        C_flux_conv = zp - 2.5*np.log10((C_flux))\n",
    "\n",
    "        med = np.median(zp - 2.5*np.log10(flux_G))\n",
    "        mea = zp - 2.5*np.log10(np.mean(flux_G))\n",
    "        med2 = np.median(mag_G)\n",
    "        mea2 = np.mean(mag_G)\n",
    "       \n",
    "        #Gisella int av mag\n",
    "        gis_flux = 10**((zp - fitcurve_mag)/2.5)\n",
    "        gis_flux_mean = np.mean(gis_flux)\n",
    "        gis_mag = zp - 2.5*np.log10(gis_flux_mean)\n",
    "\n",
    "        print('C_mag            = '+str(C_mag))\n",
    "        print('C_flux           = '+str(C_flux_conv))\n",
    "        print('WF_mag           = '+str(wf_mag))\n",
    "        #print('Median_flux      = '+str(med))\n",
    "        print('Mean_flux        = '+str(mea))\n",
    "        #print('Median_mag       = '+str(med2))\n",
    "        print('Mean_mag         = '+str(mea2))\n",
    "        print('int_avg_mag      = '+str(mag_table))\n",
    "        print('Gisella          = '+str(gis_mag))"
   ]
  },
  {
   "cell_type": "code",
   "execution_count": 11,
   "metadata": {},
   "outputs": [
    {
     "name": "stdout",
     "output_type": "stream",
     "text": [
      "INFO: Query finished. [astroquery.utils.tap.core]\n"
     ]
    },
    {
     "data": {
      "image/png": "[encoded data removed]",
      "text/plain": [
       "<Figure size 432x288 with 1 Axes>"
      ]
     },
     "metadata": {
      "needs_background": "light"
     },
     "output_type": "display_data"
    },
    {
     "data": {
      "image/png": "[encoded data removed]",
      "text/plain": [
       "<Figure size 432x288 with 1 Axes>"
      ]
     },
     "metadata": {
      "needs_background": "light"
     },
     "output_type": "display_data"
    },
    {
     "name": "stdout",
     "output_type": "stream",
     "text": [
      "C_mag            = 7.845614222231223\n",
      "C_flux           = 7.827715041484147\n",
      "WF_mag           = 7.824590593592621\n",
      "Mean_flux        = 7.830667057715594\n",
      "Mean_mag         = 7.849281661719563\n",
      "int_avg_mag      = 7.830550402788656\n",
      "Gisella          = 7.828565857164136\n"
     ]
    }
   ],
   "source": [
    "sources = 'vari_cepheids_long.txt'\n",
    "lcs = 'lcs_3044.txt'\n",
    "LightCurver(sources, lcs)"
   ]
  },
  {
   "cell_type": "code",
   "execution_count": 12,
   "metadata": {
    "scrolled": true
   },
   "outputs": [],
   "source": [
    "lc_files = glob.glob('lcs_*.txt')\n",
    "#for i in range(0, len(lc_files)):\n",
    "    #LightCurver(sources, lc_files[i])"
   ]
  },
  {
   "cell_type": "code",
   "execution_count": 15,
   "metadata": {},
   "outputs": [
    {
     "name": "stdout",
     "output_type": "stream",
     "text": [
      "INFO: Query finished. [astroquery.utils.tap.core]\n"
     ]
    }
   ],
   "source": [
    "#job2 = Gaia.launch_job_async(\"select top 10000 * from gaiadr2.vari_time_series_statistics order by source_id\")\n",
    "#res = job2.get_results()"
   ]
  },
  {
   "cell_type": "code",
   "execution_count": 29,
   "metadata": {},
   "outputs": [],
   "source": [
    "#np.set_printoptions(threshold=np.inf)\n",
    "#source_IDs = np.array(res['source_id'])\n",
    "#num_selected = np.array(res['num_selected_g_fov'])\n",
    "#print(np.sort(num_selected))"
   ]
  },
  {
   "cell_type": "code",
   "execution_count": 30,
   "metadata": {},
   "outputs": [],
   "source": [
    "#len(num_selected)"
   ]
  },
  {
   "cell_type": "code",
   "execution_count": 31,
   "metadata": {},
   "outputs": [],
   "source": [
    "#print(source_IDs)"
   ]
  },
  {
   "cell_type": "code",
   "execution_count": null,
   "metadata": {},
   "outputs": [],
   "source": []
  }
 ],
 "metadata": {
  "kernelspec": {
   "display_name": "Python 3",
   "language": "python",
   "name": "python3"
  },
  "language_info": {
   "codemirror_mode": {
    "name": "ipython",
    "version": 3
   },
   "file_extension": ".py",
   "mimetype": "text/x-python",
   "name": "python",
   "nbconvert_exporter": "python",
   "pygments_lexer": "ipython3",
   "version": "3.7.3"
  }
 },
 "nbformat": 4,
 "nbformat_minor": 2
}
