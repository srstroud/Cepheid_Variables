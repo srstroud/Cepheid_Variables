{
 "cells": [
  {
   "cell_type": "code",
   "execution_count": 1,
   "metadata": {},
   "outputs": [
    {
     "name": "stdout",
     "output_type": "stream",
     "text": [
      "Created TAP+ (v1.2.1) - Connection:\n",
      "\tHost: gea.esac.esa.int\n",
      "\tUse HTTPS: True\n",
      "\tPort: 443\n",
      "\tSSL Port: 443\n",
      "Created TAP+ (v1.2.1) - Connection:\n",
      "\tHost: geadata.esac.esa.int\n",
      "\tUse HTTPS: True\n",
      "\tPort: 443\n",
      "\tSSL Port: 443\n"
     ]
    }
   ],
   "source": [
    "import numpy as np\n",
    "import matplotlib\n",
    "import matplotlib.pyplot as plt\n",
    "from astroquery.gaia import Gaia\n",
    "#from scipy.optimize import least_squares\n",
    "from scipy.optimize import curve_fit"
   ]
  },
  {
   "cell_type": "code",
   "execution_count": 4,
   "metadata": {},
   "outputs": [
    {
     "ename": "ConnectionResetError",
     "evalue": "[WinError 10054] An existing connection was forcibly closed by the remote host",
     "output_type": "error",
     "traceback": [
      "\u001b[1;31m---------------------------------------------------------------------------\u001b[0m",
      "\u001b[1;31mConnectionResetError\u001b[0m                      Traceback (most recent call last)",
      "\u001b[1;32m<ipython-input-4-7b324e21535b>\u001b[0m in \u001b[0;36m<module>\u001b[1;34m\u001b[0m\n\u001b[1;32m----> 1\u001b[1;33m \u001b[0mjob\u001b[0m \u001b[1;33m=\u001b[0m \u001b[0mGaia\u001b[0m\u001b[1;33m.\u001b[0m\u001b[0mlaunch_job_async\u001b[0m\u001b[1;33m(\u001b[0m\u001b[1;34m\"select top 10000 * from gaiadr2.vari_cepheid order by source_id\"\u001b[0m\u001b[1;33m)\u001b[0m\u001b[1;33m\u001b[0m\u001b[1;33m\u001b[0m\u001b[0m\n\u001b[0m\u001b[0;32m      2\u001b[0m \u001b[0mr\u001b[0m \u001b[1;33m=\u001b[0m \u001b[0mjob\u001b[0m\u001b[1;33m.\u001b[0m\u001b[0mget_results\u001b[0m\u001b[1;33m(\u001b[0m\u001b[1;33m)\u001b[0m\u001b[1;33m\u001b[0m\u001b[1;33m\u001b[0m\u001b[0m\n",
      "\u001b[1;32mD:\\Python\\Anaconda\\lib\\site-packages\\astroquery\\utils\\tap\\core.py\u001b[0m in \u001b[0;36mlaunch_job_async\u001b[1;34m(self, query, name, output_file, output_format, verbose, dump_to_file, background, upload_resource, upload_table_name, autorun)\u001b[0m\n\u001b[0;32m    400\u001b[0m                                         \u001b[0mverbose\u001b[0m\u001b[1;33m,\u001b[0m\u001b[1;33m\u001b[0m\u001b[1;33m\u001b[0m\u001b[0m\n\u001b[0;32m    401\u001b[0m                                         \u001b[0mname\u001b[0m\u001b[1;33m,\u001b[0m\u001b[1;33m\u001b[0m\u001b[1;33m\u001b[0m\u001b[0m\n\u001b[1;32m--> 402\u001b[1;33m                                         autorun)\n\u001b[0m\u001b[0;32m    403\u001b[0m         isError = self.__connHandler.check_launch_response_status(response,\n\u001b[0;32m    404\u001b[0m                                                                   \u001b[0mverbose\u001b[0m\u001b[1;33m,\u001b[0m\u001b[1;33m\u001b[0m\u001b[1;33m\u001b[0m\u001b[0m\n",
      "\u001b[1;32mD:\\Python\\Anaconda\\lib\\site-packages\\astroquery\\utils\\tap\\core.py\u001b[0m in \u001b[0;36m__launchJob\u001b[1;34m(self, query, outputFormat, context, verbose, name, autorun)\u001b[0m\n\u001b[0;32m    609\u001b[0m         response = self.__connHandler.execute_tappost(subcontext=context,\n\u001b[0;32m    610\u001b[0m                                                       \u001b[0mdata\u001b[0m\u001b[1;33m=\u001b[0m\u001b[0mdata\u001b[0m\u001b[1;33m,\u001b[0m\u001b[1;33m\u001b[0m\u001b[1;33m\u001b[0m\u001b[0m\n\u001b[1;32m--> 611\u001b[1;33m                                                       verbose=verbose)\n\u001b[0m\u001b[0;32m    612\u001b[0m         \u001b[1;32mif\u001b[0m \u001b[0mverbose\u001b[0m\u001b[1;33m:\u001b[0m\u001b[1;33m\u001b[0m\u001b[1;33m\u001b[0m\u001b[0m\n\u001b[0;32m    613\u001b[0m             \u001b[0mprint\u001b[0m\u001b[1;33m(\u001b[0m\u001b[0mresponse\u001b[0m\u001b[1;33m.\u001b[0m\u001b[0mstatus\u001b[0m\u001b[1;33m,\u001b[0m \u001b[0mresponse\u001b[0m\u001b[1;33m.\u001b[0m\u001b[0mreason\u001b[0m\u001b[1;33m)\u001b[0m\u001b[1;33m\u001b[0m\u001b[1;33m\u001b[0m\u001b[0m\n",
      "\u001b[1;32mD:\\Python\\Anaconda\\lib\\site-packages\\astroquery\\utils\\tap\\conn\\tapconn.py\u001b[0m in \u001b[0;36mexecute_tappost\u001b[1;34m(self, subcontext, data, content_type, verbose)\u001b[0m\n\u001b[0;32m    271\u001b[0m         \"\"\"\n\u001b[0;32m    272\u001b[0m         \u001b[0mcontext\u001b[0m \u001b[1;33m=\u001b[0m \u001b[0mself\u001b[0m\u001b[1;33m.\u001b[0m\u001b[0m__get_tap_context\u001b[0m\u001b[1;33m(\u001b[0m\u001b[0msubcontext\u001b[0m\u001b[1;33m)\u001b[0m\u001b[1;33m\u001b[0m\u001b[1;33m\u001b[0m\u001b[0m\n\u001b[1;32m--> 273\u001b[1;33m         \u001b[1;32mreturn\u001b[0m \u001b[0mself\u001b[0m\u001b[1;33m.\u001b[0m\u001b[0m__execute_post\u001b[0m\u001b[1;33m(\u001b[0m\u001b[0mcontext\u001b[0m\u001b[1;33m,\u001b[0m \u001b[0mdata\u001b[0m\u001b[1;33m,\u001b[0m \u001b[0mcontent_type\u001b[0m\u001b[1;33m,\u001b[0m \u001b[0mverbose\u001b[0m\u001b[1;33m)\u001b[0m\u001b[1;33m\u001b[0m\u001b[1;33m\u001b[0m\u001b[0m\n\u001b[0m\u001b[0;32m    274\u001b[0m \u001b[1;33m\u001b[0m\u001b[0m\n\u001b[0;32m    275\u001b[0m     def execute_datapost(self, data,\n",
      "\u001b[1;32mD:\\Python\\Anaconda\\lib\\site-packages\\astroquery\\utils\\tap\\conn\\tapconn.py\u001b[0m in \u001b[0;36m__execute_post\u001b[1;34m(self, context, data, content_type, verbose)\u001b[0m\n\u001b[0;32m    402\u001b[0m         \u001b[0mself\u001b[0m\u001b[1;33m.\u001b[0m\u001b[0m__postHeaders\u001b[0m\u001b[1;33m[\u001b[0m\u001b[1;34m\"Content-type\"\u001b[0m\u001b[1;33m]\u001b[0m \u001b[1;33m=\u001b[0m \u001b[0mcontent_type\u001b[0m\u001b[1;33m\u001b[0m\u001b[1;33m\u001b[0m\u001b[0m\n\u001b[0;32m    403\u001b[0m         \u001b[0mconn\u001b[0m\u001b[1;33m.\u001b[0m\u001b[0mrequest\u001b[0m\u001b[1;33m(\u001b[0m\u001b[1;34m\"POST\"\u001b[0m\u001b[1;33m,\u001b[0m \u001b[0mcontext\u001b[0m\u001b[1;33m,\u001b[0m \u001b[0mdata\u001b[0m\u001b[1;33m,\u001b[0m \u001b[0mself\u001b[0m\u001b[1;33m.\u001b[0m\u001b[0m__postHeaders\u001b[0m\u001b[1;33m)\u001b[0m\u001b[1;33m\u001b[0m\u001b[1;33m\u001b[0m\u001b[0m\n\u001b[1;32m--> 404\u001b[1;33m         \u001b[0mresponse\u001b[0m \u001b[1;33m=\u001b[0m \u001b[0mconn\u001b[0m\u001b[1;33m.\u001b[0m\u001b[0mgetresponse\u001b[0m\u001b[1;33m(\u001b[0m\u001b[1;33m)\u001b[0m\u001b[1;33m\u001b[0m\u001b[1;33m\u001b[0m\u001b[0m\n\u001b[0m\u001b[0;32m    405\u001b[0m         \u001b[0mself\u001b[0m\u001b[1;33m.\u001b[0m\u001b[0m__currentReason\u001b[0m \u001b[1;33m=\u001b[0m \u001b[0mresponse\u001b[0m\u001b[1;33m.\u001b[0m\u001b[0mreason\u001b[0m\u001b[1;33m\u001b[0m\u001b[1;33m\u001b[0m\u001b[0m\n\u001b[0;32m    406\u001b[0m         \u001b[0mself\u001b[0m\u001b[1;33m.\u001b[0m\u001b[0m__currentStatus\u001b[0m \u001b[1;33m=\u001b[0m \u001b[0mresponse\u001b[0m\u001b[1;33m.\u001b[0m\u001b[0mstatus\u001b[0m\u001b[1;33m\u001b[0m\u001b[1;33m\u001b[0m\u001b[0m\n",
      "\u001b[1;32mD:\\Python\\Anaconda\\lib\\http\\client.py\u001b[0m in \u001b[0;36mgetresponse\u001b[1;34m(self)\u001b[0m\n\u001b[0;32m   1319\u001b[0m         \u001b[1;32mtry\u001b[0m\u001b[1;33m:\u001b[0m\u001b[1;33m\u001b[0m\u001b[1;33m\u001b[0m\u001b[0m\n\u001b[0;32m   1320\u001b[0m             \u001b[1;32mtry\u001b[0m\u001b[1;33m:\u001b[0m\u001b[1;33m\u001b[0m\u001b[1;33m\u001b[0m\u001b[0m\n\u001b[1;32m-> 1321\u001b[1;33m                 \u001b[0mresponse\u001b[0m\u001b[1;33m.\u001b[0m\u001b[0mbegin\u001b[0m\u001b[1;33m(\u001b[0m\u001b[1;33m)\u001b[0m\u001b[1;33m\u001b[0m\u001b[1;33m\u001b[0m\u001b[0m\n\u001b[0m\u001b[0;32m   1322\u001b[0m             \u001b[1;32mexcept\u001b[0m \u001b[0mConnectionError\u001b[0m\u001b[1;33m:\u001b[0m\u001b[1;33m\u001b[0m\u001b[1;33m\u001b[0m\u001b[0m\n\u001b[0;32m   1323\u001b[0m                 \u001b[0mself\u001b[0m\u001b[1;33m.\u001b[0m\u001b[0mclose\u001b[0m\u001b[1;33m(\u001b[0m\u001b[1;33m)\u001b[0m\u001b[1;33m\u001b[0m\u001b[1;33m\u001b[0m\u001b[0m\n",
      "\u001b[1;32mD:\\Python\\Anaconda\\lib\\http\\client.py\u001b[0m in \u001b[0;36mbegin\u001b[1;34m(self)\u001b[0m\n\u001b[0;32m    294\u001b[0m         \u001b[1;31m# read until we get a non-100 response\u001b[0m\u001b[1;33m\u001b[0m\u001b[1;33m\u001b[0m\u001b[1;33m\u001b[0m\u001b[0m\n\u001b[0;32m    295\u001b[0m         \u001b[1;32mwhile\u001b[0m \u001b[1;32mTrue\u001b[0m\u001b[1;33m:\u001b[0m\u001b[1;33m\u001b[0m\u001b[1;33m\u001b[0m\u001b[0m\n\u001b[1;32m--> 296\u001b[1;33m             \u001b[0mversion\u001b[0m\u001b[1;33m,\u001b[0m \u001b[0mstatus\u001b[0m\u001b[1;33m,\u001b[0m \u001b[0mreason\u001b[0m \u001b[1;33m=\u001b[0m \u001b[0mself\u001b[0m\u001b[1;33m.\u001b[0m\u001b[0m_read_status\u001b[0m\u001b[1;33m(\u001b[0m\u001b[1;33m)\u001b[0m\u001b[1;33m\u001b[0m\u001b[1;33m\u001b[0m\u001b[0m\n\u001b[0m\u001b[0;32m    297\u001b[0m             \u001b[1;32mif\u001b[0m \u001b[0mstatus\u001b[0m \u001b[1;33m!=\u001b[0m \u001b[0mCONTINUE\u001b[0m\u001b[1;33m:\u001b[0m\u001b[1;33m\u001b[0m\u001b[1;33m\u001b[0m\u001b[0m\n\u001b[0;32m    298\u001b[0m                 \u001b[1;32mbreak\u001b[0m\u001b[1;33m\u001b[0m\u001b[1;33m\u001b[0m\u001b[0m\n",
      "\u001b[1;32mD:\\Python\\Anaconda\\lib\\http\\client.py\u001b[0m in \u001b[0;36m_read_status\u001b[1;34m(self)\u001b[0m\n\u001b[0;32m    255\u001b[0m \u001b[1;33m\u001b[0m\u001b[0m\n\u001b[0;32m    256\u001b[0m     \u001b[1;32mdef\u001b[0m \u001b[0m_read_status\u001b[0m\u001b[1;33m(\u001b[0m\u001b[0mself\u001b[0m\u001b[1;33m)\u001b[0m\u001b[1;33m:\u001b[0m\u001b[1;33m\u001b[0m\u001b[1;33m\u001b[0m\u001b[0m\n\u001b[1;32m--> 257\u001b[1;33m         \u001b[0mline\u001b[0m \u001b[1;33m=\u001b[0m \u001b[0mstr\u001b[0m\u001b[1;33m(\u001b[0m\u001b[0mself\u001b[0m\u001b[1;33m.\u001b[0m\u001b[0mfp\u001b[0m\u001b[1;33m.\u001b[0m\u001b[0mreadline\u001b[0m\u001b[1;33m(\u001b[0m\u001b[0m_MAXLINE\u001b[0m \u001b[1;33m+\u001b[0m \u001b[1;36m1\u001b[0m\u001b[1;33m)\u001b[0m\u001b[1;33m,\u001b[0m \u001b[1;34m\"iso-8859-1\"\u001b[0m\u001b[1;33m)\u001b[0m\u001b[1;33m\u001b[0m\u001b[1;33m\u001b[0m\u001b[0m\n\u001b[0m\u001b[0;32m    258\u001b[0m         \u001b[1;32mif\u001b[0m \u001b[0mlen\u001b[0m\u001b[1;33m(\u001b[0m\u001b[0mline\u001b[0m\u001b[1;33m)\u001b[0m \u001b[1;33m>\u001b[0m \u001b[0m_MAXLINE\u001b[0m\u001b[1;33m:\u001b[0m\u001b[1;33m\u001b[0m\u001b[1;33m\u001b[0m\u001b[0m\n\u001b[0;32m    259\u001b[0m             \u001b[1;32mraise\u001b[0m \u001b[0mLineTooLong\u001b[0m\u001b[1;33m(\u001b[0m\u001b[1;34m\"status line\"\u001b[0m\u001b[1;33m)\u001b[0m\u001b[1;33m\u001b[0m\u001b[1;33m\u001b[0m\u001b[0m\n",
      "\u001b[1;32mD:\\Python\\Anaconda\\lib\\socket.py\u001b[0m in \u001b[0;36mreadinto\u001b[1;34m(self, b)\u001b[0m\n\u001b[0;32m    587\u001b[0m         \u001b[1;32mwhile\u001b[0m \u001b[1;32mTrue\u001b[0m\u001b[1;33m:\u001b[0m\u001b[1;33m\u001b[0m\u001b[1;33m\u001b[0m\u001b[0m\n\u001b[0;32m    588\u001b[0m             \u001b[1;32mtry\u001b[0m\u001b[1;33m:\u001b[0m\u001b[1;33m\u001b[0m\u001b[1;33m\u001b[0m\u001b[0m\n\u001b[1;32m--> 589\u001b[1;33m                 \u001b[1;32mreturn\u001b[0m \u001b[0mself\u001b[0m\u001b[1;33m.\u001b[0m\u001b[0m_sock\u001b[0m\u001b[1;33m.\u001b[0m\u001b[0mrecv_into\u001b[0m\u001b[1;33m(\u001b[0m\u001b[0mb\u001b[0m\u001b[1;33m)\u001b[0m\u001b[1;33m\u001b[0m\u001b[1;33m\u001b[0m\u001b[0m\n\u001b[0m\u001b[0;32m    590\u001b[0m             \u001b[1;32mexcept\u001b[0m \u001b[0mtimeout\u001b[0m\u001b[1;33m:\u001b[0m\u001b[1;33m\u001b[0m\u001b[1;33m\u001b[0m\u001b[0m\n\u001b[0;32m    591\u001b[0m                 \u001b[0mself\u001b[0m\u001b[1;33m.\u001b[0m\u001b[0m_timeout_occurred\u001b[0m \u001b[1;33m=\u001b[0m \u001b[1;32mTrue\u001b[0m\u001b[1;33m\u001b[0m\u001b[1;33m\u001b[0m\u001b[0m\n",
      "\u001b[1;32mD:\\Python\\Anaconda\\lib\\ssl.py\u001b[0m in \u001b[0;36mrecv_into\u001b[1;34m(self, buffer, nbytes, flags)\u001b[0m\n\u001b[0;32m   1050\u001b[0m                   \u001b[1;34m\"non-zero flags not allowed in calls to recv_into() on %s\"\u001b[0m \u001b[1;33m%\u001b[0m\u001b[1;33m\u001b[0m\u001b[1;33m\u001b[0m\u001b[0m\n\u001b[0;32m   1051\u001b[0m                   self.__class__)\n\u001b[1;32m-> 1052\u001b[1;33m             \u001b[1;32mreturn\u001b[0m \u001b[0mself\u001b[0m\u001b[1;33m.\u001b[0m\u001b[0mread\u001b[0m\u001b[1;33m(\u001b[0m\u001b[0mnbytes\u001b[0m\u001b[1;33m,\u001b[0m \u001b[0mbuffer\u001b[0m\u001b[1;33m)\u001b[0m\u001b[1;33m\u001b[0m\u001b[1;33m\u001b[0m\u001b[0m\n\u001b[0m\u001b[0;32m   1053\u001b[0m         \u001b[1;32melse\u001b[0m\u001b[1;33m:\u001b[0m\u001b[1;33m\u001b[0m\u001b[1;33m\u001b[0m\u001b[0m\n\u001b[0;32m   1054\u001b[0m             \u001b[1;32mreturn\u001b[0m \u001b[0msuper\u001b[0m\u001b[1;33m(\u001b[0m\u001b[1;33m)\u001b[0m\u001b[1;33m.\u001b[0m\u001b[0mrecv_into\u001b[0m\u001b[1;33m(\u001b[0m\u001b[0mbuffer\u001b[0m\u001b[1;33m,\u001b[0m \u001b[0mnbytes\u001b[0m\u001b[1;33m,\u001b[0m \u001b[0mflags\u001b[0m\u001b[1;33m)\u001b[0m\u001b[1;33m\u001b[0m\u001b[1;33m\u001b[0m\u001b[0m\n",
      "\u001b[1;32mD:\\Python\\Anaconda\\lib\\ssl.py\u001b[0m in \u001b[0;36mread\u001b[1;34m(self, len, buffer)\u001b[0m\n\u001b[0;32m    909\u001b[0m         \u001b[1;32mtry\u001b[0m\u001b[1;33m:\u001b[0m\u001b[1;33m\u001b[0m\u001b[1;33m\u001b[0m\u001b[0m\n\u001b[0;32m    910\u001b[0m             \u001b[1;32mif\u001b[0m \u001b[0mbuffer\u001b[0m \u001b[1;32mis\u001b[0m \u001b[1;32mnot\u001b[0m \u001b[1;32mNone\u001b[0m\u001b[1;33m:\u001b[0m\u001b[1;33m\u001b[0m\u001b[1;33m\u001b[0m\u001b[0m\n\u001b[1;32m--> 911\u001b[1;33m                 \u001b[1;32mreturn\u001b[0m \u001b[0mself\u001b[0m\u001b[1;33m.\u001b[0m\u001b[0m_sslobj\u001b[0m\u001b[1;33m.\u001b[0m\u001b[0mread\u001b[0m\u001b[1;33m(\u001b[0m\u001b[0mlen\u001b[0m\u001b[1;33m,\u001b[0m \u001b[0mbuffer\u001b[0m\u001b[1;33m)\u001b[0m\u001b[1;33m\u001b[0m\u001b[1;33m\u001b[0m\u001b[0m\n\u001b[0m\u001b[0;32m    912\u001b[0m             \u001b[1;32melse\u001b[0m\u001b[1;33m:\u001b[0m\u001b[1;33m\u001b[0m\u001b[1;33m\u001b[0m\u001b[0m\n\u001b[0;32m    913\u001b[0m                 \u001b[1;32mreturn\u001b[0m \u001b[0mself\u001b[0m\u001b[1;33m.\u001b[0m\u001b[0m_sslobj\u001b[0m\u001b[1;33m.\u001b[0m\u001b[0mread\u001b[0m\u001b[1;33m(\u001b[0m\u001b[0mlen\u001b[0m\u001b[1;33m)\u001b[0m\u001b[1;33m\u001b[0m\u001b[1;33m\u001b[0m\u001b[0m\n",
      "\u001b[1;31mConnectionResetError\u001b[0m: [WinError 10054] An existing connection was forcibly closed by the remote host"
     ]
    }
   ],
   "source": [
    "job = Gaia.launch_job_async(\"select top 10000 * from gaiadr2.vari_cepheid order by source_id\")\n",
    "r = job.get_results()"
   ]
  },
  {
   "cell_type": "code",
   "execution_count": null,
   "metadata": {},
   "outputs": [],
   "source": [
    "r"
   ]
  },
  {
   "cell_type": "code",
   "execution_count": null,
   "metadata": {},
   "outputs": [],
   "source": [
    "np.sort(r['pf'])"
   ]
  },
  {
   "cell_type": "code",
   "execution_count": null,
   "metadata": {},
   "outputs": [],
   "source": [
    "sources = r['source_id']"
   ]
  },
  {
   "cell_type": "markdown",
   "metadata": {},
   "source": [
    "### Light curves with flux"
   ]
  },
  {
   "cell_type": "code",
   "execution_count": null,
   "metadata": {},
   "outputs": [],
   "source": [
    "lcs = np.loadtxt('light_curves_first.txt',skiprows=1,delimiter=',',usecols=(0,3,4,5,6,7))\n",
    "lcs_band = np.loadtxt('light_curves_first.txt',skiprows=1,delimiter=',',usecols=2, dtype=np.str)"
   ]
  },
  {
   "cell_type": "code",
   "execution_count": null,
   "metadata": {},
   "outputs": [],
   "source": [
    "source_id = lcs[:,0]\n",
    "band = lcs_band\n",
    "time = lcs[:,1]\n",
    "mag = lcs[:,2]\n",
    "flux = lcs[:,3]\n",
    "flux_error = lcs[:,4] \n",
    "flux_over_error = lcs[:,5]\n",
    "print(source_id)"
   ]
  },
  {
   "cell_type": "code",
   "execution_count": null,
   "metadata": {},
   "outputs": [],
   "source": [
    "#First example\n",
    "asas_ind = np.argwhere(source_id==2957940098405233024)\n",
    "#asas_ind = np.argwhere(source_id==6909188166792514944)\n",
    "asas_mag = mag[asas_ind[0][0]:asas_ind[-1][0]]\n",
    "asas_time = time[asas_ind[0][0]:asas_ind[-1][0]]\n",
    "asas_flux = flux[asas_ind[0][0]:asas_ind[-1][0]]\n",
    "asas_flux_error = flux_error[asas_ind[0][0]:asas_ind[-1][0]]\n",
    "asas_flux_over_error = flux_over_error[asas_ind[0][0]:asas_ind[-1][0]]\n",
    "#Seperating bands\n",
    "asas_band = band[asas_ind[0][0]:asas_ind[-1][0]]\n",
    "G_ind = np.argwhere(asas_band=='G')\n",
    "BP_ind = np.argwhere(asas_band=='BP')\n",
    "RP_ind = np.argwhere(asas_band=='RP')\n",
    "asas_time_G = asas_time[G_ind[0][0]:G_ind[-1][0]]\n",
    "asas_time_BP = asas_time[BP_ind[0][0]:BP_ind[-1][0]]\n",
    "asas_time_RP = asas_time[RP_ind[0][0]:RP_ind[-1][0]]\n",
    "#time_BP and time_RP are nearly identical to time_G, but have different lengths\n",
    "asas_mag_G = asas_mag[G_ind[0][0]:G_ind[-1][0]]\n",
    "asas_mag_BP = asas_mag[BP_ind[0][0]:BP_ind[-1][0]]\n",
    "asas_mag_RP = asas_mag[RP_ind[0][0]:RP_ind[-1][0]]\n",
    "asas_flux_G = asas_flux[G_ind[0][0]:G_ind[-1][0]]\n",
    "asas_flux_error_G = asas_flux_error[G_ind[0][0]:G_ind[-1][0]]\n",
    "asas_flux_over_error_G = asas_flux_over_error[G_ind[0][0]:G_ind[-1][0]]\n",
    "asas_flux_BP = asas_flux[BP_ind[0][0]:BP_ind[-1][0]]\n",
    "asas_flux_RP = asas_flux[RP_ind[0][0]:RP_ind[-1][0]]\n",
    "#asas_flux = flux[asas_ind[0][0]:asas_ind[-1][0]]"
   ]
  },
  {
   "cell_type": "code",
   "execution_count": null,
   "metadata": {
    "scrolled": true
   },
   "outputs": [],
   "source": [
    "plt.plot(asas_time_G, asas_mag_G, 'g.-')\n",
    "plt.plot(asas_time_BP, asas_mag_BP, 'b.-')\n",
    "plt.plot(asas_time_RP, asas_mag_RP, 'r.-')\n",
    "plt.title('Light Curve')\n",
    "plt.xlabel('Time')\n",
    "plt.ylabel('Mag')\n",
    "plt.gca().invert_yaxis()\n",
    "plt.show()\n",
    "\n",
    "plt.plot(asas_time_G, asas_flux_G, 'g.-')\n",
    "plt.plot(asas_time_BP, asas_flux_BP, 'b.-')\n",
    "plt.plot(asas_time_RP, asas_flux_RP, 'r.-')\n",
    "plt.title('Light Curve')\n",
    "plt.xlabel('Time')\n",
    "plt.ylabel('Flux')\n",
    "plt.show()"
   ]
  },
  {
   "cell_type": "markdown",
   "metadata": {},
   "source": [
    "## Flux with error bars (better example below)"
   ]
  },
  {
   "cell_type": "code",
   "execution_count": null,
   "metadata": {},
   "outputs": [],
   "source": [
    "print(asas_flux_error_G)"
   ]
  },
  {
   "cell_type": "code",
   "execution_count": null,
   "metadata": {},
   "outputs": [],
   "source": [
    "#Magnitude of errors are, apparently, quite small.\n",
    "#%matplotlib notebook\n",
    "plt.errorbar(asas_time_G, asas_flux_G, yerr=asas_flux_error_G, ecolor='r')\n",
    "plt.title('Light Curve')\n",
    "plt.xlabel('Time')\n",
    "plt.ylabel('Flux')\n",
    "plt.show()"
   ]
  },
  {
   "cell_type": "markdown",
   "metadata": {},
   "source": [
    "### Regarding the determination of periods:\n",
    "https://gea.esac.esa.int/archive/documentation/GDR2/Gaia_archive/chap_datamodel/sec_dm_variability_tables/ssec_dm_vari_cepheid.html\n",
    "\n",
    "\"This value [pf] is obtained by modelling the G band time series using the Levenberg-Marquardt non linear fitting algorithm (see Clementini et al. 2016, A&A, 595, A133).\"\n",
    "\n",
    "Also worth noting, from the same webpage:\n",
    "\n",
    "\"The intensity-averaged magnitude is obtained by computing the average flux and then converting the average flux to magnitude.\""
   ]
  },
  {
   "cell_type": "markdown",
   "metadata": {},
   "source": [
    "## Plotting Phase"
   ]
  },
  {
   "cell_type": "markdown",
   "metadata": {},
   "source": [
    "What the hell am I supposed to do when a source has a period on the order days, but the light curve only has points on the order minutes?\n",
    "Nevermind, I now believe the units of the light curve time series is days."
   ]
  },
  {
   "cell_type": "code",
   "execution_count": null,
   "metadata": {},
   "outputs": [],
   "source": [
    "per = r['pf'][np.argwhere(r['source_id']==2957940098405233024)]\n",
    "per = per[0][0]\n",
    "#per = per*60*60*24 #Converting days to seconds\n",
    "#Now I believe the time series is in days, as in Julian Days (minus refrence date))\n",
    "phase = (asas_time_G % per)#/per\n",
    "plt.scatter(phase, asas_flux_G, color='g')\n",
    "plt.show()"
   ]
  },
  {
   "cell_type": "code",
   "execution_count": null,
   "metadata": {},
   "outputs": [],
   "source": [
    "#Defining Source\n",
    "#mysource = 2952257272558933248\n",
    "#mysource = 2950975929193648128 #Maybe this source good?\n",
    "#mysource = 2950541415941942016 #very bad\n",
    "mysource = 2945995416399061760 #This source is decent!\n",
    "#mysource = 2957940098405233024 #This is okayish.\n",
    "asas_ind = np.argwhere(source_id==mysource)\n",
    "asas_mag = mag[asas_ind[0][0]:asas_ind[-1][0]]\n",
    "asas_time = time[asas_ind[0][0]:asas_ind[-1][0]]\n",
    "asas_flux = flux[asas_ind[0][0]:asas_ind[-1][0]]\n",
    "asas_band = band[asas_ind[0][0]:asas_ind[-1][0]]\n",
    "G_ind = np.argwhere(asas_band=='G')\n",
    "asas_time_G = asas_time[G_ind[0][0]:G_ind[-1][0]]\n",
    "asas_mag_G = asas_mag[G_ind[0][0]:G_ind[-1][0]]\n",
    "asas_flux_G = asas_flux[G_ind[0][0]:G_ind[-1][0]]\n",
    "#Calculating phase\n",
    "per = r['pf'][np.argwhere(r['source_id']==mysource)]\n",
    "per = per[0][0]\n",
    "print(per)\n",
    "phase = (asas_time_G % per)#/per\n",
    "plt.scatter(phase, asas_flux_G, color='g')\n",
    "plt.title('Light Curve for ' + str(mysource) +', Per = '+ str('%.3f'%per))\n",
    "plt.xlabel('Phase')\n",
    "plt.ylabel('G Band Flux')\n",
    "#plt.savefig('LCPhase'+str(mysource)+'.png', bboxes='tight', dpi=300)\n",
    "plt.show()"
   ]
  },
  {
   "cell_type": "code",
   "execution_count": null,
   "metadata": {},
   "outputs": [],
   "source": [
    "plt.scatter(phase, asas_mag_G, color='g')\n",
    "plt.title('Light Curve for ' + str(mysource) +', Per = '+ str('%.3f'%per))\n",
    "plt.xlabel('Phase')\n",
    "plt.ylabel('Mag')\n",
    "plt.gca().invert_yaxis()\n",
    "#plt.savefig('LCPhase'+str(mysource)+'_Mag.png', bboxes='tight', dpi=300)\n",
    "plt.show()"
   ]
  },
  {
   "cell_type": "markdown",
   "metadata": {},
   "source": [
    "## Flux with error bars"
   ]
  },
  {
   "cell_type": "code",
   "execution_count": null,
   "metadata": {},
   "outputs": [],
   "source": [
    "#Magnitude of errors are, apparently, quite small.\n",
    "asas_flux_error = flux_error[asas_ind[0][0]:asas_ind[-1][0]]\n",
    "asas_flux_error_G = asas_flux_error[G_ind[0][0]:G_ind[-1][0]]\n",
    "plt.errorbar(phase, asas_flux_G, yerr=asas_flux_error_G, ls='None', ecolor='k', capsize=2)\n",
    "plt.scatter(phase, asas_flux_G, color='g')\n",
    "plt.title('Light Curve for ' + str(mysource) +', Per = '+ str('%.3f'%per))\n",
    "plt.xlabel('Phase')\n",
    "plt.ylabel('G Band Flux')\n",
    "#plt.savefig('LCPhase'+str(mysource)+'.png', bboxes='tight', dpi=300)\n",
    "plt.show()"
   ]
  },
  {
   "cell_type": "markdown",
   "metadata": {},
   "source": [
    "## Raw Time Series Light Curve of My Source"
   ]
  },
  {
   "cell_type": "code",
   "execution_count": null,
   "metadata": {},
   "outputs": [],
   "source": [
    "plt.errorbar(asas_time_G, asas_flux_G, yerr=asas_flux_error_G, ls='None', ecolor='k', capsize=2)\n",
    "plt.plot(asas_time_G, asas_flux_G, 'g.-')\n",
    "plt.title('Raw Light Curve for '+str(mysource))\n",
    "plt.ylabel('G Band Flux (e-/s)')\n",
    "plt.xlabel('Barycentric JD in TCB - 2455197.5 (days)')\n",
    "#plt.savefig('LCRaw'+str(mysource)+'.png', bboxes='tight', dpi=300)\n",
    "plt.show()"
   ]
  },
  {
   "cell_type": "markdown",
   "metadata": {},
   "source": [
    "A rather ugly raw light curve. I think my mistake earlier today was trying to make nice looking phased light curves only out of raw light curves that looked nice."
   ]
  },
  {
   "cell_type": "markdown",
   "metadata": {},
   "source": [
    "## Mean of G Band Flux"
   ]
  },
  {
   "cell_type": "code",
   "execution_count": null,
   "metadata": {},
   "outputs": [],
   "source": [
    "np.mean(asas_flux_G)\n",
    "#len(asas_time_G) == 42"
   ]
  },
  {
   "cell_type": "markdown",
   "metadata": {},
   "source": [
    "Above is merely the mean of the raw observed flux. What I want is the mean of a modeled flux."
   ]
  },
  {
   "cell_type": "markdown",
   "metadata": {},
   "source": [
    "## Modeling a Fourier Series to the Light Curve"
   ]
  },
  {
   "cell_type": "code",
   "execution_count": null,
   "metadata": {},
   "outputs": [],
   "source": [
    "myperiod = r['pf'][np.argwhere(r['source_id']==mysource)]\n",
    "myperiod = myperiod[0][0]\n",
    "mytime = asas_time_G\n",
    "myflux = asas_flux_G\n",
    "mymag = asas_mag_G\n",
    "def fourier3(tau,c,a,b):\n",
    "    #argument: tau = (2*np.pi*t)/P \n",
    "    return c + a*np.sin(tau) + b*np.cos(tau)\n",
    "\n",
    "def fit_fourier3(t, p, f):\n",
    "    #c_min = 0\n",
    "    #c_max = np.inf\n",
    "    #bound_min = [c_min,c_min,c_min]\n",
    "    #bound_max = [c_max,c_max,c_max]\n",
    "    #bound = (bound_min,bound_max)\n",
    "    popt = curve_fit(fourier3, t%p, f, bounds=(0,np.inf))#=bound)\n",
    "    pcov = popt[1]\n",
    "    popt = popt[0]\n",
    "    #c = popt[0]\n",
    "    #a = popt[1]\n",
    "    #b = popt[2]\n",
    "    return popt #c, a, b"
   ]
  },
  {
   "cell_type": "code",
   "execution_count": null,
   "metadata": {},
   "outputs": [],
   "source": [
    "fit_fourier3(mytime, myperiod, myflux)"
   ]
  },
  {
   "cell_type": "code",
   "execution_count": null,
   "metadata": {},
   "outputs": [],
   "source": [
    "fit_c = fit_fourier3(mytime, myperiod, myflux)[0]\n",
    "fit_a = fit_fourier3(mytime, myperiod, myflux)[1]\n",
    "fit_b = fit_fourier3(mytime, myperiod, myflux)[2]\n",
    "tau = mytime #2*np.pi*mytime/myperiod\n",
    "#tau = np.linspace(0,10,num=42)\n",
    "fit = fit_c + fit_a*np.sin(tau) + fit_b*np.cos(tau)\n",
    "#plt.plot(mytime, fit, c='r')\n",
    "#plt.plot(mytime, myflux, c='g')\n",
    "#plt.show()"
   ]
  },
  {
   "cell_type": "code",
   "execution_count": null,
   "metadata": {},
   "outputs": [],
   "source": [
    "tau = np.linspace(0,2.6,num=42)#mytime #2*np.pi*mytime/myperiod\n",
    "#tau = mytime % myperiod #The same, as I've defined it now (8am)\n",
    "fit = fit_c + fit_a*np.sin(tau) + fit_b*np.cos(tau)\n",
    "#plt.plot(tau, fit, c='r')\n",
    "#plt.scatter(mytime % myperiod, myflux, c='g')\n",
    "#plt.show()"
   ]
  },
  {
   "cell_type": "markdown",
   "metadata": {},
   "source": [
    "### Fourier series fit"
   ]
  },
  {
   "cell_type": "code",
   "execution_count": null,
   "metadata": {},
   "outputs": [],
   "source": [
    "N = 42 # number of data points\n",
    "myt = mytime % myperiod\n",
    "data = myflux\n",
    "#first guesses\n",
    "guess_freq = 1\n",
    "guess_amplitude = 3*np.std(data)/(2**0.5)\n",
    "guess_phase = 0\n",
    "guess_offset = np.mean(data)\n",
    "p0=[guess_freq, guess_amplitude, guess_phase, guess_offset]\n",
    "#create the function we want to fit\n",
    "def my_sin(x, freq, amplitude, phase, offset):\n",
    "    return offset + (np.sin(x * freq + phase) * amplitude) + (np.cos(x * freq + phase) * amplitude)\n",
    "#now do the fit\n",
    "fit = curve_fit(my_sin, myt, data, p0=p0)\n",
    "#recreate the fitted curve using the optimized parameters\n",
    "data_fit = my_sin(myt, *fit[0])\n",
    "plt.plot(data, '.', label='light curve points',c='g')\n",
    "plt.plot(data_fit, label='light curve fit', c='r')\n",
    "plt.legend()\n",
    "plt.show()"
   ]
  },
  {
   "cell_type": "code",
   "execution_count": null,
   "metadata": {},
   "outputs": [],
   "source": [
    "plt.plot(mytime, data, label='light curve points',c='g')\n",
    "plt.plot(mytime, data_fit, label='light curve fit', c='r')\n",
    "plt.legend()\n",
    "plt.show()"
   ]
  },
  {
   "cell_type": "code",
   "execution_count": null,
   "metadata": {},
   "outputs": [],
   "source": [
    "plt.scatter(mytime%myperiod, data, label='light curve points',c='g')\n",
    "plt.scatter(mytime%myperiod, data_fit, label='light curve fit', c='r')\n",
    "plt.legend()\n",
    "plt.show()"
   ]
  },
  {
   "cell_type": "code",
   "execution_count": null,
   "metadata": {},
   "outputs": [],
   "source": [
    "myfreq = fit[0][0] \n",
    "myamp = fit[0][1]  \n",
    "myphase = fit[0][2] \n",
    "myoffset = fit[0][3]\n",
    "x = np.linspace(0,2.6,num=3125)\n",
    "fitcurve = myoffset + (np.sin(x*myfreq+myphase)*myamp) + (np.cos(x*myfreq+myphase)*myamp)\n",
    "plt.scatter(mytime%myperiod, myflux, c='g')\n",
    "plt.plot(x, fitcurve, c='r')\n",
    "plt.show()"
   ]
  },
  {
   "cell_type": "code",
   "execution_count": null,
   "metadata": {},
   "outputs": [],
   "source": [
    "x = np.linspace(min(mytime%myperiod),max(mytime%myperiod),num=3125)\n",
    "fitcurve = myoffset + (np.sin(x*myfreq+myphase)*myamp) + (np.cos(x*myfreq+myphase)*myamp)\n",
    "plt.errorbar(phase, asas_flux_G, yerr=asas_flux_error_G, ls='None', ecolor='k', capsize=2)\n",
    "plt.scatter(mytime%myperiod, myflux, c='g')\n",
    "plt.plot(x, fitcurve, c='r')\n",
    "plt.title('Fitted Light Curve for ' + str(mysource))\n",
    "plt.xlabel('Phase')\n",
    "plt.ylabel('G Band Flux')\n",
    "#plt.savefig('LCPhase'+str(mysource)+'_Fit.png', bboxes='tight', dpi=300)\n",
    "plt.show()"
   ]
  },
  {
   "cell_type": "code",
   "execution_count": null,
   "metadata": {},
   "outputs": [],
   "source": []
  },
  {
   "cell_type": "code",
   "execution_count": null,
   "metadata": {},
   "outputs": [],
   "source": [
    "print(np.mean(data))\n",
    "print(np.mean(data_fit))\n",
    "print(np.mean(fitcurve))"
   ]
  },
  {
   "cell_type": "markdown",
   "metadata": {},
   "source": [
    "## Same method as above, but with magnitude instead of flux"
   ]
  },
  {
   "cell_type": "code",
   "execution_count": 3,
   "metadata": {},
   "outputs": [
    {
     "ename": "NameError",
     "evalue": "name 'mytime' is not defined",
     "output_type": "error",
     "traceback": [
      "\u001b[1;31m---------------------------------------------------------------------------\u001b[0m",
      "\u001b[1;31mNameError\u001b[0m                                 Traceback (most recent call last)",
      "\u001b[1;32m<ipython-input-3-3b8eb90913e6>\u001b[0m in \u001b[0;36m<module>\u001b[1;34m\u001b[0m\n\u001b[0;32m      1\u001b[0m \u001b[0mN\u001b[0m \u001b[1;33m=\u001b[0m \u001b[1;36m42\u001b[0m \u001b[1;31m# number of data points\u001b[0m\u001b[1;33m\u001b[0m\u001b[1;33m\u001b[0m\u001b[0m\n\u001b[1;32m----> 2\u001b[1;33m \u001b[0mmyt\u001b[0m \u001b[1;33m=\u001b[0m \u001b[0mmytime\u001b[0m \u001b[1;33m%\u001b[0m \u001b[0mmyperiod\u001b[0m\u001b[1;33m\u001b[0m\u001b[1;33m\u001b[0m\u001b[0m\n\u001b[0m\u001b[0;32m      3\u001b[0m \u001b[0mt\u001b[0m \u001b[1;33m=\u001b[0m \u001b[0mnp\u001b[0m\u001b[1;33m.\u001b[0m\u001b[0mlinspace\u001b[0m\u001b[1;33m(\u001b[0m\u001b[1;36m0\u001b[0m\u001b[1;33m,\u001b[0m \u001b[1;36m4\u001b[0m\u001b[1;33m*\u001b[0m\u001b[0mnp\u001b[0m\u001b[1;33m.\u001b[0m\u001b[0mpi\u001b[0m\u001b[1;33m,\u001b[0m \u001b[0mN\u001b[0m\u001b[1;33m)\u001b[0m\u001b[1;33m\u001b[0m\u001b[1;33m\u001b[0m\u001b[0m\n\u001b[0;32m      4\u001b[0m \u001b[0mdata\u001b[0m \u001b[1;33m=\u001b[0m \u001b[0mmymag\u001b[0m\u001b[1;33m\u001b[0m\u001b[1;33m\u001b[0m\u001b[0m\n\u001b[0;32m      5\u001b[0m \u001b[1;33m\u001b[0m\u001b[0m\n",
      "\u001b[1;31mNameError\u001b[0m: name 'mytime' is not defined"
     ]
    }
   ],
   "source": [
    "N = 42 # number of data points\n",
    "myt = mytime % myperiod\n",
    "t = np.linspace(0, 4*np.pi, N)\n",
    "data = mymag\n",
    "\n",
    "guess_freq = 1\n",
    "guess_amplitude = 3*np.std(data)/(2**0.5)\n",
    "guess_phase = 0\n",
    "guess_offset = np.mean(data)\n",
    "\n",
    "p0=[guess_freq, guess_amplitude,\n",
    "    guess_phase, guess_offset]\n",
    "\n",
    "# create the function we want to fit\n",
    "def my_sin(x, freq, amplitude1, amplitude2, amplitude3, amplitude4, offset):\n",
    "    deg1 = (np.sin(2*np.pi*x*freq)*amplitude1) + (np.cos(2*np.pi*x*freq)*amplitude2)\n",
    "    deg2 = (np.sin(2*np.pi*2*x*freq)*amplitude3) + (np.cos(2*np.pi*2*x*freq)* amplitude4)\n",
    "    return offset + deg1 + deg2\n",
    "\n",
    "# now do the fit\n",
    "fit_mag = curve_fit(my_sin, myt, data, p0=p0)\n",
    "\n",
    "# recreate the fitted curve using the optimized parameters\n",
    "data_fit_mag = my_sin(myt, *fit_mag[0])\n",
    "\n",
    "plt.plot(mymag, '.', label='light curve points',c='g')\n",
    "plt.plot(data_fit_mag, label='light curve fit', c='r')\n",
    "plt.legend()\n",
    "plt.show()"
   ]
  },
  {
   "cell_type": "code",
   "execution_count": null,
   "metadata": {},
   "outputs": [],
   "source": [
    "plt.scatter(mytime%myperiod, mymag,c='g')\n",
    "plt.gca().invert_yaxis()\n",
    "plt.scatter(mytime%myperiod, data_fit_mag, label='light curve fit', c='r')\n",
    "#plt.legend()\n",
    "plt.show()"
   ]
  },
  {
   "cell_type": "code",
   "execution_count": null,
   "metadata": {},
   "outputs": [],
   "source": [
    "magfreq = fit_mag[0][0] \n",
    "magamp = fit_mag[0][1]  \n",
    "magphase = fit_mag[0][2] \n",
    "magoffset = fit_mag[0][3]\n",
    "x = np.linspace(min(mytime%myperiod),max(mytime%myperiod),num=3125)\n",
    "fitcurvemag = magoffset + (np.sin(x*magfreq+magphase)*magamp) + (np.cos(x*magfreq+magphase)*magamp)\n",
    "plt.scatter(mytime%myperiod, mymag, c='g')\n",
    "plt.plot(x, fitcurvemag, c='r')\n",
    "plt.gca().invert_yaxis()\n",
    "plt.title('Fitted Light Curve for ' + str(mysource))\n",
    "plt.xlabel('Phase')\n",
    "plt.ylabel('Mag')\n",
    "#plt.savefig('LCPhase'+str(mysource)+'_Fit_Mag.png', bboxes='tight', dpi=300)\n",
    "plt.show()"
   ]
  },
  {
   "cell_type": "code",
   "execution_count": null,
   "metadata": {},
   "outputs": [],
   "source": [
    "print(fit_mag[0])\n",
    "print(fit[0])"
   ]
  },
  {
   "cell_type": "code",
   "execution_count": null,
   "metadata": {},
   "outputs": [],
   "source": [
    "print(np.mean(mymag))\n",
    "print(np.mean(data_fit_mag))\n",
    "print(np.mean(fitcurvemag))\n",
    "print(r['int_average_g'][np.argwhere(r['source_id']==mysource)])"
   ]
  },
  {
   "cell_type": "code",
   "execution_count": null,
   "metadata": {},
   "outputs": [],
   "source": [
    "fit[0]"
   ]
  },
  {
   "cell_type": "code",
   "execution_count": null,
   "metadata": {},
   "outputs": [],
   "source": []
  },
  {
   "cell_type": "code",
   "execution_count": null,
   "metadata": {},
   "outputs": [],
   "source": []
  }
 ],
 "metadata": {
  "kernelspec": {
   "display_name": "Python 3",
   "language": "python",
   "name": "python3"
  },
  "language_info": {
   "codemirror_mode": {
    "name": "ipython",
    "version": 3
   },
   "file_extension": ".py",
   "mimetype": "text/x-python",
   "name": "python",
   "nbconvert_exporter": "python",
   "pygments_lexer": "ipython3",
   "version": "3.7.3"
  }
 },
 "nbformat": 4,
 "nbformat_minor": 2
}
